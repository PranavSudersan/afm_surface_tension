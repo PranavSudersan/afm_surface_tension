{
 "cells": [
  {
   "cell_type": "markdown",
   "metadata": {},
   "source": [
    "# JPK AFM data analysis for liquid samples"
   ]
  },
  {
   "cell_type": "markdown",
   "metadata": {},
   "source": [
    "## Import libraries\n",
    "Run this ONLY ONCE. Always restart kernel before running."
   ]
  },
  {
   "cell_type": "code",
   "execution_count": null,
   "metadata": {},
   "outputs": [],
   "source": [
    "%load_ext autoreload\n",
    "%autoreload 2\n",
    "%matplotlib nbagg\n",
    "\n",
    "import sys\n",
    "import os\n",
    "import numpy as np\n",
    "import pandas as pd\n",
    "from datetime import datetime\n",
    "from igor import binarywave\n",
    "from PyQt5.QtWidgets import QApplication, QFileDialog, QListView, QTreeView, QAbstractItemView\n",
    "#from IPython.display import Image\n",
    "import matplotlib.pyplot as plt\n",
    "import seaborn as sns\n",
    "import wetting#, surfevol\n",
    "\n",
    "app = QApplication(sys.argv)\n",
    "plt.close('all')\n",
    "\n",
    "#function to select multiple folders from dialog\n",
    "def get_directories(caption=\"\"):\n",
    "    file_dialog = QFileDialog(caption=caption)\n",
    "    file_dialog.setFileMode(QFileDialog.DirectoryOnly)\n",
    "    file_dialog.setOption(QFileDialog.DontUseNativeDialog, True)\n",
    "    file_view = file_dialog.findChild(QListView, 'listView')\n",
    "\n",
    "    if file_view:\n",
    "        file_view.setSelectionMode(QAbstractItemView.MultiSelection)\n",
    "    f_tree_view = file_dialog.findChild(QTreeView)\n",
    "    if f_tree_view:\n",
    "        f_tree_view.setSelectionMode(QAbstractItemView.MultiSelection)\n",
    "\n",
    "    if file_dialog.exec():\n",
    "        paths = file_dialog.selectedFiles()\n",
    "    else:\n",
    "        paths = []\n",
    "\n",
    "    return paths\n",
    "\n",
    "#recognize if *.ibw file contains image data or force data\n",
    "def categorize_ibw(filepath):\n",
    "    ibw = binarywave.load(filepath)\n",
    "    wdata = ibw[\"wave\"][\"wData\"]\n",
    "    meta_keys = []\n",
    "    for line in str(ibw[\"wave\"][\"note\"]).split(\"\\\\r\"):\n",
    "        if line.count(\":\"):\n",
    "            key, val = line.split(\":\", 1)\n",
    "            meta_keys.append(key)\n",
    "\n",
    "    #CHECK THIS! MIGHT NOT WORK FOR SOME DATA\n",
    "    if 'ForceDist' in meta_keys:\n",
    "        file_cat = 'force'\n",
    "    else:\n",
    "        file_cat = 'image'\n",
    "        \n",
    "    return file_cat        "
   ]
  },
  {
   "cell_type": "markdown",
   "metadata": {},
   "source": [
    "## Run Surface Tension code\n",
    "Only works with classic Jupyter Notebook, not JupyterLab"
   ]
  },
  {
   "cell_type": "code",
   "execution_count": null,
   "metadata": {
    "scrolled": true
   },
   "outputs": [],
   "source": [
    "%%javascript\n",
    "Jupyter.notebook.execute_cells([6,8,10,12,14])"
   ]
  },
  {
   "cell_type": "markdown",
   "metadata": {},
   "source": [
    "## JPK data raw files"
   ]
  },
  {
   "cell_type": "code",
   "execution_count": null,
   "metadata": {
    "scrolled": true
   },
   "outputs": [],
   "source": [
    "jpk_file_paths, _ = QFileDialog.getOpenFileNames(caption='Select JPK data files') #JPK data (*.jpk,*.jpk-qi-data,*.jpk-force)\n",
    "output_dir = ''#QFileDialog.getExistingDirectory(caption='Select output data folder') #output folder\n",
    "        \n",
    "#separate image data and force data files\n",
    "img_file_paths = []\n",
    "fd_file_paths = []\n",
    "for filepath in jpk_file_paths:\n",
    "    file_ext = filepath.split('.')[-1]\n",
    "    if file_ext in ['jpk', 'jpk-qi-data', 'jpk-force-map']:\n",
    "        img_file_paths.append(filepath)\n",
    "    elif file_ext in ['jpk-force']:\n",
    "        fd_file_paths.append(filepath)\n",
    "    elif file_ext in ['ibw']: #change this\n",
    "        file_cat = categorize_ibw(filepath)\n",
    "        if file_cat == 'image':\n",
    "            img_file_paths.append(filepath)\n",
    "        elif file_cat == 'force':\n",
    "            fd_file_paths.append(filepath)\n",
    "        \n",
    "#make output directory\n",
    "if output_dir == '':\n",
    "        output_dir = os.path.dirname(jpk_file_paths[0]) + '/analysis' #default \"analysis\" folder\n",
    "output_paths = []\n",
    "for img_file_path in img_file_paths:\n",
    "    file_name = os.path.basename(img_file_path)\n",
    "    timestamp = datetime.today().strftime('%y%m%d-%H%M%S')\n",
    "    output_path = f'{output_dir}/{file_name}_results_{timestamp}'\n",
    "    os.makedirs(output_path, exist_ok=True)\n",
    "    output_paths.append(output_path)\n",
    "\n",
    "print('Image data:\\n', img_file_paths, '\\nForce data:\\n', fd_file_paths, '\\nOutput folder:\\n', output_paths)"
   ]
  },
  {
   "cell_type": "markdown",
   "metadata": {},
   "source": [
    "## AFM image"
   ]
  },
  {
   "cell_type": "code",
   "execution_count": null,
   "metadata": {
    "scrolled": false,
    "tags": []
   },
   "outputs": [],
   "source": [
    "plt.close('all')\n",
    "for img_file_path, output_path in zip(img_file_paths, output_paths):\n",
    "    print('Image file:', img_file_path)\n",
    "    print('Output folder:', output_path)\n",
    "    afm_data, anal_data_h, fig_list =  wetting.get_afm_image(img_file_path, output_path, \n",
    "                                                             level_order=2, jump_tol=0.9,\n",
    "                                                             denoise_size=5)\n",
    "    for fig in fig_list:\n",
    "        display(fig)\n",
    "\n",
    "plt.close('all')"
   ]
  },
  {
   "cell_type": "markdown",
   "metadata": {
    "tags": []
   },
   "source": [
    "## Get liquid drop properties"
   ]
  },
  {
   "cell_type": "code",
   "execution_count": null,
   "metadata": {
    "scrolled": true,
    "tags": []
   },
   "outputs": [],
   "source": [
    "plt.close('all')\n",
    "#drop analysis of AFM data\n",
    "drop_df, img_anal, fig_list = wetting.get_drop_prop(afm_data, anal_data_h, output_paths[0])\n",
    "drop_df['AFM file'] = img_file_paths[0]\n",
    "for fig in fig_list:\n",
    "    display(fig)\n",
    "display(drop_df)\n",
    "plt.close('all')"
   ]
  },
  {
   "cell_type": "markdown",
   "metadata": {},
   "source": [
    "## Analyze force distance curves"
   ]
  },
  {
   "cell_type": "code",
   "execution_count": null,
   "metadata": {
    "scrolled": true
   },
   "outputs": [],
   "source": [
    "plt.close('all')\n",
    "fd_drop_df, fdfit_dict, fddata_dict, fig_list = wetting.analyze_drop_fd(fd_file_paths, afm_data, img_anal,\n",
    "                                                                        force_cycle = 'approach', fit_order = 2,\n",
    "                                                                        output_path = output_paths[0])\n",
    "\n",
    "for fig in fig_list:\n",
    "    #fig = Image(fig_path, width=400, height=400)\n",
    "    display(fig)\n",
    "display(fd_drop_df)"
   ]
  },
  {
   "cell_type": "markdown",
   "metadata": {},
   "source": [
    "## Droplet surface tension calculation"
   ]
  },
  {
   "cell_type": "code",
   "execution_count": null,
   "metadata": {
    "scrolled": true
   },
   "outputs": [],
   "source": [
    "contact_angle = 40 #Set fixed value to calculate its corresponsing surface tension (None take average of polyfit contact angle values)\n",
    "cone_a = 29 # cone angle from SEM (near tip)\n",
    "pyr_a = 38 #pyramid angle from SEM\n",
    "\n",
    "pyr_a_eff = 2*np.arctan(np.tan((pyr_a/2)*np.pi/180/2)/np.sqrt(2))*180/np.pi #effective half angle since SEM images are oriented 45\n",
    "tip_angle_dict = {'Cone':int(cone_a/2), \n",
    "                  'Pyramid':int(pyr_a_eff)}\n",
    "\n",
    "plt.close('all')\n",
    "sns.set_style(\"ticks\")\n",
    "sns.set_context(\"talk\")\n",
    "\n",
    "#combine droplet image and force result data\n",
    "afm_df = drop_df.set_index('Label').join(fd_drop_df.set_index('Label'), how='right')\n",
    "    \n",
    "# calculate surface tension by complete FD fitting using 2nd order poly approximation\n",
    "output_df_cone2, fig_fit_cone = wetting.get_surface_tension(afm_df, 'Cone', tip_angle_dict['Cone'], \n",
    "                                               contact_angle, fdfit_dict, fddata_dict,\n",
    "                                               file_path=output_paths[0], save=False)\n",
    "output_df_pyr2, fig_fit_pyr = wetting.get_surface_tension(afm_df, 'Pyramid', tip_angle_dict['Pyramid'], \n",
    "                                               contact_angle, fdfit_dict, fddata_dict,\n",
    "                                               file_path=output_paths[0], save=False)\n",
    "output_df_polyfit = output_df_cone2.append(output_df_pyr2)\n",
    "afm_filename = output_df_polyfit['AFM file'].iloc[0].split('/')[-1][:-4]\n",
    "output_df_polyfit.to_excel(f'{output_paths[0]}/output_final-{afm_filename}.xlsx')\n",
    "\n",
    "#display fitting plots\n",
    "display(fig_fit_cone)\n",
    "fig_fit_cone.savefig(f'{output_paths[0]}/cone_polyfit_result.png', bbox_inches = 'tight',\n",
    "            transparent = False)\n",
    "display(fig_fit_pyr)\n",
    "fig_fit_pyr.savefig(f'{output_paths[0]}/pyramid_polyfit_result.png', bbox_inches = 'tight',\n",
    "            transparent = False)\n",
    "plt.close('all')\n",
    "\n",
    "#plot surface tension results\n",
    "output_df_polyfit_reshaped = pd.melt(output_df_polyfit[['Tip shape','Contact Radius','Surface Tension (polyfit, mN/m)','Surface Tension (fixed, mN/m)']], \n",
    "                                     id_vars=['Tip shape','Contact Radius'],\n",
    "                                    value_vars=['Surface Tension (polyfit, mN/m)','Surface Tension (fixed, mN/m)'],\n",
    "                                    var_name='Method', value_name='Surface Tension (mN/m)')\n",
    "output_df_polyfit_reshaped.replace({'Method': {'Surface Tension (polyfit, mN/m)': 'polyfit', \n",
    "                                               'Surface Tension (fixed, mN/m)': 'fixed'}}, inplace=True)\n",
    "g1 = sns.relplot(data=output_df_polyfit_reshaped, x=\"Contact Radius\", \n",
    "                      y=\"Surface Tension (mN/m)\",\n",
    "                     style=\"Tip shape\",hue=\"Method\",\n",
    "                     kind='scatter', aspect=1.3)\n",
    "#show and save plot\n",
    "fig1 = g1.figure\n",
    "display(fig1)\n",
    "fig1.savefig(f'{output_paths[0]}/surface_tension.png', bbox_inches = 'tight',\n",
    "             transparent = False)\n",
    "\n",
    "\n",
    "plot_vars = ['Drop contact angle','Tip contact angle (polyfit)',\n",
    "             'Adhesion (FD)', 'Max Height']\n",
    "\n",
    "fig2, ax2 = plt.subplots(2, 2, sharex=True, figsize=(12, 8))\n",
    "sns.scatterplot(data=output_df_polyfit, x=\"Contact Radius\",\n",
    "                y=plot_vars[0], ax=ax2[0,0])\n",
    "sns.scatterplot(data=output_df_polyfit, x=\"Contact Radius\",\n",
    "                y=plot_vars[1], style=\"Tip shape\", hue=\"Tip shape\", ax=ax2[0,1])\n",
    "sns.scatterplot(data=output_df_polyfit, x=\"Contact Radius\",\n",
    "                y=plot_vars[2], ax=ax2[1,0])\n",
    "sns.scatterplot(data=output_df_polyfit, x=\"Contact Radius\",\n",
    "                y=plot_vars[3], ax=ax2[1,1])\n",
    "\n",
    "#number formatting\n",
    "ax2[1][0].ticklabel_format(axis='y', style='sci', scilimits=(-9,-9))\n",
    "ax2[1][1].ticklabel_format(axis='y', style='sci', scilimits=(-6,-6))\n",
    "ax2[1][1].ticklabel_format(axis='x', style='sci', scilimits=(-6,-6))\n",
    "fig2.tight_layout()\n",
    "display(fig2)\n",
    "fig2.savefig(f'{output_paths[0]}/other_results.png', bbox_inches = 'tight',\n",
    "             transparent = False)\n",
    "\n",
    "plt.close('all')"
   ]
  },
  {
   "cell_type": "markdown",
   "metadata": {},
   "source": [
    "## Combine results from different folders"
   ]
  },
  {
   "cell_type": "code",
   "execution_count": null,
   "metadata": {
    "scrolled": true
   },
   "outputs": [],
   "source": [
    "plt.cla()\n",
    "plt.clf()\n",
    "plt.close('all')\n",
    "folder_paths = get_directories(\"Select analysis result folder (containing output Excel file)\")\n",
    "summary_df = wetting.combine_result_spreadsheets(folder_paths)\n",
    "\n",
    "summary_df['Liquid'] = 'Glycerol' #SET THIS!\n",
    "summary_df['DQ'] = 'Y' #CHANGE to N manually if data not good\n",
    "summary_df = summary_df[summary_df['FD file'] != '']\n",
    "\n",
    "summary_df.rename(columns={\"Max Height\": \"Drop Height (m)\"}, inplace=True)\n",
    "#summary_df = summary_df[summary_df[surf_ten_label] != 0]\n",
    "#summary_df.replace(0, np.nan, inplace=True)\n",
    "timestamp = datetime.today().strftime('%y%m%d-%H%M%S')\n",
    "output_dir2 = os.path.dirname(folder_paths[-1])\n",
    "#dir_name = os.path.basename(folder_paths[-1]) # use this to use same name as source folder name\n",
    "dir_name = os.path.basename(os.path.dirname(output_dir2))\n",
    "summary_df.to_excel(f'{output_dir2}/summary_data_{dir_name}_{timestamp}.xlsx', index=None)\n",
    "\n",
    "\n",
    "#plot surface tension results\n",
    "x_var = \"Drop Height (m)\"# \"Contact Radius\",'Liquid','R square (polyfit)',\n",
    "val_vars = ['Surface Tension (polyfit, mN/m)','Surface Tension (fixed, mN/m)']\n",
    "id_vars = [p for p in list(summary_df.columns) if p not in val_vars]\n",
    "cols = summary_df.columns\n",
    "summary_df_reshaped = pd.melt(summary_df, \n",
    "                                     id_vars=id_vars,\n",
    "                                    value_vars=val_vars,\n",
    "                                    var_name='Method', value_name='Surface Tension (mN/m)')\n",
    "summary_df_reshaped.replace({'Method': {'Surface Tension (polyfit, mN/m)': 'polyfit', \n",
    "                                        'Surface Tension (fixed, mN/m)': 'fixed'}}, inplace=True)\n",
    "#summary_df_reshaped = summary_df_reshaped[summary_df_reshaped['Method'] == 'fixed'] #CHECK\n",
    "#summary_df_reshaped = summary_df_reshaped[summary_df_reshaped['DQ'] == 'Y'] #CHECK\n",
    "\n",
    "# #summary_df_reshaped = summary_df_reshaped[summary_df_reshaped['R square (polyfit)'] > 0.9]\n",
    "# #summary_df_reshaped = summary_df_reshaped[summary_df_reshaped['Tip shape'] == 'Cone']\n",
    "#group data by tip shape to get average surface tension\n",
    "# summary_df_reshaped = summary_df_reshaped[['Drop Height (m)','Liquid','Tip shape',\n",
    "#                                            'Surface Tension (mN/m)']]\n",
    "# summary_df_reshaped = summary_df_reshaped.groupby(['Drop Height (m)','Liquid']).mean()\n",
    "\n",
    "#generate pivot table to summarize surface tension for fixed contact angle\n",
    "summary_final = pd.pivot_table(summary_df_reshaped[summary_df_reshaped['Method'] == 'fixed'], \n",
    "                               values=['Surface Tension (mN/m)'], \n",
    "                               index=['Liquid','Tip shape'],\n",
    "                               aggfunc={'Surface Tension (mN/m)': [np.mean, np.std]})\n",
    "summary_final.to_excel(f'{output_dir2}/summary_final_{dir_name}_{timestamp}.xlsx')\n",
    "display(summary_final)\n",
    "\n",
    "g3 = sns.relplot(data=summary_df_reshaped, x=x_var,\n",
    "                y=\"Surface Tension (mN/m)\", hue=\"Method\", #Method, Liquid CHECK\n",
    "                style=\"Tip shape\",\n",
    "                style_order=['Cone','Pyramid'],\n",
    "                kind='scatter', aspect=1.3)\n",
    "\n",
    "#ax.ticklabel_format(axis='x', style='sci', scilimits=(-6,-6))\n",
    "#show and save plot\n",
    "fig3 = g3.figure\n",
    "fig3.savefig(f'{output_dir2}/summary_plot_{dir_name}_{timestamp}.png', bbox_inches = 'tight',\n",
    "            transparent = False)\n",
    "display(fig3)\n",
    "\n",
    "plot_vars = ['Drop contact angle','Tip contact angle (polyfit)',\n",
    "             'Adhesion (FD)', 'Drop Height (m)']\n",
    "\n",
    "fig4, ax4 = plt.subplots(2, 2, sharex=True, figsize=(12, 8))\n",
    "sns.scatterplot(data=summary_df, x=x_var,\n",
    "                y=plot_vars[0], ax=ax4[0,0])\n",
    "sns.scatterplot(data=summary_df, x=x_var,\n",
    "                y=plot_vars[1], style=\"Tip shape\", \n",
    "                hue=\"Liquid\", \n",
    "                ax=ax4[0,1])\n",
    "sns.scatterplot(data=summary_df, x=x_var,\n",
    "                y=plot_vars[2], ax=ax4[1,0])\n",
    "sns.scatterplot(data=summary_df, x=x_var,\n",
    "                y=plot_vars[3], ax=ax4[1,1])\n",
    "\n",
    "#number formatting\n",
    "ax4[1][0].ticklabel_format(axis='y', style='sci', scilimits=(-9,-9))\n",
    "ax4[1][1].ticklabel_format(axis='y', style='sci', scilimits=(-6,-6))\n",
    "ax4[1][1].ticklabel_format(axis='x', style='sci', scilimits=(-6,-6))\n",
    "fig4.tight_layout()\n",
    "display(fig4)\n",
    "fig4.savefig(f'{output_dir2}/summary_other_results_{dir_name}_{timestamp}.png', bbox_inches = 'tight',\n",
    "             transparent = False)\n",
    "\n",
    "display(summary_df)\n",
    "plt.close('all')"
   ]
  },
  {
   "cell_type": "markdown",
   "metadata": {},
   "source": [
    "## Combine multiple FD curves"
   ]
  },
  {
   "cell_type": "code",
   "execution_count": null,
   "metadata": {},
   "outputs": [],
   "source": [
    "plt.close('all')\n",
    "# combine multiple fd curves\n",
    "output_path = ''\n",
    "fd_file_paths, _ = QFileDialog.getOpenFileNames()\n",
    "wetting.combine_fd(fd_file_paths, zero_shift=True, \n",
    "                   output_dir=output_path,save=False)\n",
    "#wetting.get_adhesion_from_fd(fd_file_paths)"
   ]
  },
  {
   "cell_type": "markdown",
   "metadata": {},
   "source": [
    "## Optional codes"
   ]
  },
  {
   "cell_type": "code",
   "execution_count": null,
   "metadata": {},
   "outputs": [],
   "source": [
    "# calculate contact angle from fd curve\n",
    "label = 5 #INPUT\n",
    "label_df = drop_df[drop_df['Label']==label]\n",
    "s = label_df['s'].iloc[0]\n",
    "R = round(label_df['R/s'].iloc[0])\n",
    "contact_angle = wetting.get_contact_angle(fd_file_paths[0], simu_df,\n",
    "                                         R, s, fit_index=5000)\n",
    "\n"
   ]
  }
 ],
 "metadata": {
  "kernelspec": {
   "display_name": "Python 3 (ipykernel)",
   "language": "python",
   "name": "python3"
  },
  "language_info": {
   "codemirror_mode": {
    "name": "ipython",
    "version": 3
   },
   "file_extension": ".py",
   "mimetype": "text/x-python",
   "name": "python",
   "nbconvert_exporter": "python",
   "pygments_lexer": "ipython3",
   "version": "3.10.7"
  }
 },
 "nbformat": 4,
 "nbformat_minor": 4
}
